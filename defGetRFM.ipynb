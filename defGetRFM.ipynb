{
 "cells": [
  {
   "cell_type": "code",
   "execution_count": null,
   "metadata": {
    "collapsed": true
   },
   "outputs": [],
   "source": [
    "import json, requests, pandas, time"
   ]
  },
  {
   "cell_type": "code",
   "execution_count": null,
   "metadata": {
    "collapsed": true
   },
   "outputs": [],
   "source": [
    "# hacer lista de mails separados por coma\n",
    "emails = [\"patriciatojo@hotmail.com\", \"germanbaschkier@hotmail.com\", \"verosemi@gmail.com\", \"jcorigliano@despegar.com\", \"djsd\"]"
   ]
  },
  {
   "cell_type": "code",
   "execution_count": null,
   "metadata": {
    "collapsed": true
   },
   "outputs": [],
   "source": [
    "def getRFM(email): # tablita con una columna \"mails\"\n",
    "    \n",
    "    rfm = []   \n",
    "    \n",
    "    WAIT_SECONDS = 0.1\n",
    "    time.sleep(WAIT_SECONDS)\n",
    "\n",
    "    url = \"http://10.2.7.6/euler-service/v3/email/\" + email + \"/rfm\"\n",
    "    headers = {'X-Client': 'Vero Analytics', 'X-Cluster': 'euler-web-beta-h2'}\n",
    "    rfm_get = requests.get(url, headers=headers)\n",
    "\n",
    "    # no sirve chequear el status code en este servicio porque si el mail no existe devuelve 0 en los valores\n",
    "    #if rfm_get.status_code != requests.codes.ok: \n",
    "    #    return 'NaN'\n",
    "    #else:\n",
    "    clv = rfm_get.json()['clv']\n",
    "    probability = rfm_get.json()['probability']\n",
    "    ev = rfm_get.json()['ev']\n",
    "    category = rfm_get.json()['category']\n",
    "    r = rfm_get.json()['rfm']['r']\n",
    "    f = rfm_get.json()['rfm']['f']\n",
    "    m = rfm_get.json()['rfm']['m']\n",
    "    mail = email\n",
    "\n",
    "    # hago esto para que se devuelva NA cuando el mail no da una respuesta para el servicio\n",
    "    if clv == 0 and probability == 0 and ev == 0 and r == 0 and f == 0 and m == 0:\n",
    "        clv = float('NaN')\n",
    "        probability = float('NaN')\n",
    "        ev = float('NaN')\n",
    "        category = float('NaN')\n",
    "        r = float('NaN')\n",
    "        f = float('NaN')\n",
    "        m = float('NaN')\n",
    "        mail = email\n",
    "\n",
    "    rfm.append([mail, clv, probability, ev, category, r, f, m]) \n",
    "\n",
    "    return pandas.DataFrame(rfm, columns=['mail','clv','probability','ev','category','r','f','m'])            "
   ]
  },
  {
   "cell_type": "code",
   "execution_count": null,
   "metadata": {
    "collapsed": true
   },
   "outputs": [],
   "source": [
    "usersRDD = sc.parallelize(emails)"
   ]
  },
  {
   "cell_type": "code",
   "execution_count": null,
   "metadata": {
    "collapsed": true
   },
   "outputs": [],
   "source": [
    "histories = usersRDD.flatMap(getUserHistory)"
   ]
  },
  {
   "cell_type": "code",
   "execution_count": null,
   "metadata": {
    "collapsed": true
   },
   "outputs": [],
   "source": [
    "#pruebita = {k: getRFM(v) for k, v in mail_list.items()}\n",
    "pruebita = getRFM(mail_list)"
   ]
  },
  {
   "cell_type": "code",
   "execution_count": null,
   "metadata": {
    "collapsed": true
   },
   "outputs": [],
   "source": [
    "pruebita"
   ]
  }
 ],
 "metadata": {
  "kernelspec": {
   "display_name": "Python 2",
   "language": "python",
   "name": "python2"
  },
  "language_info": {
   "codemirror_mode": {
    "name": "ipython",
    "version": 2
   },
   "file_extension": ".py",
   "mimetype": "text/x-python",
   "name": "python",
   "nbconvert_exporter": "python",
   "pygments_lexer": "ipython2",
   "version": "2.7.12"
  }
 },
 "nbformat": 4,
 "nbformat_minor": 1
}
